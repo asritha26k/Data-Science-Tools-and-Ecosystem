{
 "cells": [
  {
   "cell_type": "markdown",
   "metadata": {},
   "source": [
    "<center>\n",
    "    <img src=\"https://cf-courses-data.s3.us.cloud-object-storage.appdomain.cloud/IBMDeveloperSkillsNetwork-DS0105EN-SkillsNetwork/labs/Module2/images/SN_web_lightmode.png\" width=\"300\" alt=\"cognitiveclass.ai logo\">\n",
    "</center>\n"
   ]
  },
  {
   "cell_type": "markdown",
   "metadata": {},
   "source": [
    "#### Add your code below following the instructions given in the course\n"
   ]
  },
  {
   "cell_type": "markdown",
   "metadata": {},
   "source": [
    "Data Science Tools and Ecosystem\n"
   ]
  },
  {
   "cell_type": "markdown",
   "metadata": {
    "jupyter": {
     "source_hidden": true
    },
    "tags": []
   },
   "source": [
    "In this notebook, Data Science Tools and Ecosystem are summarized.\n",
    "\n",
    "Data science is a multifaceted field that leverages various tools and technologies to analyze and interpret complex data. Here a summary of key data science tools and the ecosystem:\n",
    "Programming Languages\n",
    "\n",
    "    Python\n",
    "        Widely used for its readability and extensive libraries (e.g., pandas, NumPy, scikit-learn).\n",
    "        Ideal for data manipulation, statistical analysis, and machine learning.\n",
    "\n",
    "    R\n",
    "        Designed for statistical computing and graphics.\n",
    "        Strong in data analysis and visualization with packages like ggplot2, dplyr, and caret.\n",
    "\n",
    "    SQL\n",
    "        Essential for querying and managing data in relational databases.\n",
    "\n",
    "    Julia\n",
    "        High-performance language for technical computing, gaining popularity for numerical and scientific applications."
   ]
  },
  {
   "cell_type": "markdown",
   "metadata": {},
   "source": [
    "Some of the popular languages that Data Scientists use are:\n",
    "\n",
    "Popular Data Science Languages:\n",
    "\n",
    "    Python (Easy to Use, Versatile):\n",
    "        Beginner-friendly syntax.\n",
    "        Handles various tasks (cleaning, analysis, visualization, machine learning).\n",
    "        Rich ecosystem of data science libraries (NumPy, Pandas, Matplotlib, Scikit-learn).\n",
    "\n",
    "    R (Statistics Powerhouse):\n",
    "        Strong built-in statistical functions and packages.\n",
    "        Creates high-quality statistical graphics.\n",
    "        Large, active user community for online support.\n",
    "\n",
    "    SQL (Database Essential):\n",
    "        Used to interact with relational databases (where most data resides).\n",
    "        Enables data retrieval, filtering, table joining, and updates.\n",
    "\n"
   ]
  },
  {
   "cell_type": "markdown",
   "metadata": {},
   "source": [
    "Some of the commonly used libraries used by Data Scientists include:\n",
    "\n",
    "NumPy: Provides efficient arrays and mathematical functions.\n",
    "Pandas: Offers high-performance data structures like DataFrames for analysis and manipulation.\n",
    "Matplotlib: Creates various plots and visualizations.\n",
    "Seaborn: Builds on Matplotlib for beautiful statistical graphics."
   ]
  },
  {
   "cell_type": "markdown",
   "metadata": {},
   "source": [
    "Data Science Tools\n",
    "Programming Languages\n",
    "\n",
    "    Python: Popular for its readability and vast data science libraries (NumPy, Pandas, Matplotlib, Scikit-learn).\n",
    "    R: Strong in statistics and data visualization.\n",
    "    SQL: Essential for working with relational databases.\n",
    "\n",
    "Data Cleaning and Manipulation\n",
    "\n",
    "    Pandas (Python): Offers data structures like DataFrames to clean and manipulate data.\n",
    "    OpenRefine (Open Source): Tool with a graphical user interface for cleaning messy data.\n",
    "\n",
    "Data Visualization\n",
    "\n",
    "    Matplotlib (Python): Creates various plots and charts.\n",
    "    Seaborn (Python): Built on Matplotlib for beautiful statistical graphics.\n",
    "    ggplot2 (R): Creates informative and visually appealing statistical graphics.\n",
    "\n",
    "Machine Learning\n",
    "\n",
    "    Scikit-learn (Python): Offers various machine learning algorithms.\n",
    "    TensorFlow (Python): Open-source framework for numerical computation and large-scale machine learning.\n",
    "    PyTorch (Python): Popular machine learning framework known for its flexibility and ease of use.\n",
    "\n",
    "Data Warehousing and Management\n",
    "\n",
    "    Hadoop (Open Source): Framework for processing and storing large datasets across computers.\n",
    "    Spark (Open Source): Unified analytics engine for large-scale data processing.\n",
    "\n",
    "Interactive Data Analysis\n",
    "\n",
    "    Jupyter Notebook: Open-source web application for creating documents combining code, visualizations, and text.\n",
    "    RStudio: Popular open-source integrated development environment (IDE) for R users.\n",
    "\n",
    "\n"
   ]
  },
  {
   "cell_type": "markdown",
   "metadata": {},
   "source": [
    "Below are a few examples of evaluating arithmetic expressions in Python."
   ]
  },
  {
   "cell_type": "code",
   "execution_count": 2,
   "metadata": {
    "tags": []
   },
   "outputs": [
    {
     "data": {
      "text/plain": [
       "17"
      ]
     },
     "execution_count": 2,
     "metadata": {},
     "output_type": "execute_result"
    }
   ],
   "source": [
    "(3*4)+5\n",
    "# This a simple arithmetic expression to mutiply then add integers."
   ]
  },
  {
   "cell_type": "code",
   "execution_count": 4,
   "metadata": {
    "tags": []
   },
   "outputs": [
    {
     "data": {
      "text/plain": [
       "3.3333333333333335"
      ]
     },
     "execution_count": 4,
     "metadata": {},
     "output_type": "execute_result"
    }
   ],
   "source": [
    "#This will convert 200 minutes to hours by diving by 60\n",
    "200/60"
   ]
  },
  {
   "cell_type": "markdown",
   "metadata": {},
   "source": [
    "List popular languages for Data Science\n",
    "\n",
    "Python: Renowned for its readability and extensive data science ecosystem (libraries like NumPy, Pandas, Matplotlib, Scikit-learn).\n",
    "R: A go-to choice for statisticians with robust statistical capabilities and data visualization strengths.\n",
    "SQL: The language for relational databases, crucial for data retrieval, manipulation, and analysis."
   ]
  },
  {
   "cell_type": "markdown",
   "metadata": {},
   "source": [
    "Author\n",
    "##Asritha\n"
   ]
  }
 ],
 "metadata": {
  "kernelspec": {
   "display_name": "Python",
   "language": "python",
   "name": "conda-env-python-py"
  },
  "language_info": {
   "codemirror_mode": {
    "name": "ipython",
    "version": 3
   },
   "file_extension": ".py",
   "mimetype": "text/x-python",
   "name": "python",
   "nbconvert_exporter": "python",
   "pygments_lexer": "ipython3",
   "version": "3.7.12"
  }
 },
 "nbformat": 4,
 "nbformat_minor": 4
}
